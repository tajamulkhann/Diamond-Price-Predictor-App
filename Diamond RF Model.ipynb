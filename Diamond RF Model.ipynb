{
 "cells": [
  {
   "cell_type": "code",
   "execution_count": null,
   "id": "b6259ad2",
   "metadata": {},
   "outputs": [
    {
     "data": {
      "text/plain": [
       "Index(['carat', 'cut', 'color', 'clarity', 'depth', 'table', 'price', 'x', 'y',\n",
       "       'z'],\n",
       "      dtype='object')"
      ]
     },
     "execution_count": 1,
     "metadata": {},
     "output_type": "execute_result"
    }
   ],
   "source": [
    "import pandas as pd\n",
    "import numpy as np\n",
    "import sklearn\n",
    "from sklearn.model_selection import train_test_split\n",
    "from sklearn.pipeline import Pipeline\n",
    "from sklearn.compose import ColumnTransformer\n",
    "from sklearn.preprocessing import OneHotEncoder, StandardScaler\n",
    "from sklearn.ensemble import RandomForestRegressor\n",
    "import pickle\n",
    "\n",
    "# Load dataset\n",
    "df = pd.read_csv(\"Diamond Price Prediction.csv\")\n",
    "\n",
    "# Rename columns to simplify and make model-friendly\n",
    "df.rename(columns={\n",
    "    \"Carat(Weight of Daimond)\": \"carat\",\n",
    "    \"Cut(Quality)\": \"cut\",\n",
    "    \"Color\": \"color\",\n",
    "    \"Clarity\": \"clarity\",\n",
    "    \"Depth\": \"depth\",\n",
    "    \"Table\": \"table\",\n",
    "    \"X(length)\": \"x\",\n",
    "    \"Y(width)\": \"y\",\n",
    "    \"Z(Depth)\": \"z\",\n",
    "    \"Price(in US dollars)\": \"price\"\n",
    "}, inplace=True)\n",
    "\n",
    "df.columns"
   ]
  },
  {
   "cell_type": "code",
   "execution_count": 2,
   "id": "00cdc541",
   "metadata": {},
   "outputs": [
    {
     "name": "stdout",
     "output_type": "stream",
     "text": [
      "✅ Model R² Score on Test Data: 0.9809\n"
     ]
    }
   ],
   "source": [
    "# Define features and target\n",
    "X = df.drop(\"price\", axis=1)\n",
    "y = df[\"price\"]\n",
    "\n",
    "# Define categorical and numerical columns\n",
    "categorical_cols = [\"cut\", \"color\", \"clarity\"]\n",
    "numerical_cols = [\"carat\", \"depth\", \"table\", \"x\", \"y\", \"z\"]\n",
    "\n",
    "# Preprocessing\n",
    "preprocessor = ColumnTransformer([\n",
    "    (\"onehot\", OneHotEncoder(handle_unknown=\"ignore\"), categorical_cols),\n",
    "    (\"scale\", StandardScaler(), numerical_cols)\n",
    "])\n",
    "\n",
    "# Create pipeline\n",
    "pipeline = Pipeline([\n",
    "    (\"preprocessing\", preprocessor),\n",
    "    (\"model\", RandomForestRegressor(random_state=42))\n",
    "])\n",
    "\n",
    "# Split the data\n",
    "X_train, X_test, y_train, y_test = train_test_split(X, y, test_size=0.2, random_state=42)\n",
    "\n",
    "# Fit the model\n",
    "pipeline.fit(X_train, y_train)\n",
    "\n",
    "# Evaluate model\n",
    "score = pipeline.score(X_test, y_test)\n",
    "print(f\"✅ Model R² Score on Test Data: {score:.4f}\")\n",
    "\n",
    "# Save model\n",
    "with open(\"pipeline.pkl\", \"wb\") as f:\n",
    "    pickle.dump(pipeline, f)"
   ]
  }
 ],
 "metadata": {
  "colab": {
   "provenance": []
  },
  "kernelspec": {
   "display_name": "venv",
   "language": "python",
   "name": "python3"
  },
  "language_info": {
   "codemirror_mode": {
    "name": "ipython",
    "version": 3
   },
   "file_extension": ".py",
   "mimetype": "text/x-python",
   "name": "python",
   "nbconvert_exporter": "python",
   "pygments_lexer": "ipython3",
   "version": "3.11.6"
  }
 },
 "nbformat": 4,
 "nbformat_minor": 5
}
